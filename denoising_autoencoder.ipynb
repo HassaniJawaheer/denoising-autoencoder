{
 "cells": [
  {
   "cell_type": "markdown",
   "id": "b605919a-0a45-4527-b8f7-2cb88d4b4218",
   "metadata": {},
   "source": [
    "# Convolutional Denoising Autoencoders\n",
    "\n",
    "Autoencoders are typically used to represent data in lower-dimensional spaces, mainly for dimensionality reduction tasks. They achieve this by converting input data into a lower-dimensional encoding and then using that encoding to reconstruct the original data. This way, the model learns the important aspects of the input data as latent features, enabling it to recreate the data efficiently.\n",
    "\n",
    "**Denoising autoencoders** work differently. They learn to capture only the useful information from the input data (ignoring noise) by modifying the reconstruction criterion. Denoising autoencoders take noisy data points as input and reconstruct a clean version as output.\n",
    "\n",
    "**IMPORTANT**: A denoising autoencoder will only be able to remove noise from the dataset if the original features of the data are stable and robust to noise.\n",
    "\n",
    "## Convolutional Denoising Autoencoders (CDAEs)\n",
    "\n",
    "Convolutional Denoising Autoencoder (CDAE) models take a noisy image as input and extract important features using multiple convolutional operations. These latent features are then passed to a set of deconvolutional layers to reconstruct a cleaner version of the image, maintaining the same height and width.\n",
    "\n",
    "**IMPORTANT**: Feature dimensions do not need to be smaller in the case of denoising autoencoders, as the inputs and outputs are different."
   ]
  },
  {
   "cell_type": "markdown",
   "id": "bb442fce-9e36-4c14-9bba-c947b8d6fc2e",
   "metadata": {},
   "source": [
    "## Implementation with PyTorch"
   ]
  },
  {
   "cell_type": "markdown",
   "id": "ac9e7b5e-1895-4d79-8077-085f242fd206",
   "metadata": {},
   "source": [
    "We will implement a convolutional denoising autoencoder with PyTorch on the MNIST dataset.\n",
    "\n",
    "1. First, we will add noise to the images using different types of noise.\n",
    "2. Then, we will train the autoencoder to denoise them."
   ]
  },
  {
   "cell_type": "markdown",
   "id": "7b7f5a83-0e69-40fe-a79f-7c7162368719",
   "metadata": {},
   "source": [
    "## Import dependencies"
   ]
  },
  {
   "cell_type": "code",
   "execution_count": 1,
   "id": "9b6e97dc-b8fa-440c-8bc8-aaefca36391e",
   "metadata": {},
   "outputs": [
    {
     "name": "stdout",
     "output_type": "stream",
     "text": [
      "GPU is available\n"
     ]
    }
   ],
   "source": [
    "import torch\n",
    "import torch.nn as nn\n",
    "import matplotlib.pyplot as plt\n",
    "import time\n",
    "import torch.nn.functional as F\n",
    "from torchvision import transforms, datasets\n",
    "from torch.utils.data import DataLoader\n",
    "import numpy as np\n",
    "from matplotlib.lines import Line2D\n",
    "import random\n",
    "\n",
    "# If GPU is available\n",
    "if torch.cuda.is_available():\n",
    "    print(\"GPU is available\")\n",
    "else:\n",
    "    print(\"GPU is not available\")"
   ]
  },
  {
   "cell_type": "markdown",
   "id": "ecb4beb8-a364-47e8-b6e0-08fbd8e2b77c",
   "metadata": {},
   "source": [
    "## Ensure reproductibility"
   ]
  },
  {
   "cell_type": "code",
   "execution_count": 2,
   "id": "8da77317-074f-4df9-bd5a-409b59566053",
   "metadata": {},
   "outputs": [],
   "source": [
    "seed = 42\n",
    "torch.manual_seed(seed) # Ensure reproductibility fo operations in PyTorch on CPU\n",
    "torch.cuda.manual_seed_all(seed) # Ensure reproductibility for operations on GPU\n",
    "random.seed(seed) # Ensure reproductibility for all operations using random module"
   ]
  },
  {
   "cell_type": "markdown",
   "id": "b501a506-b670-425d-8c39-ef6d8c02d7e9",
   "metadata": {},
   "source": [
    "### Class for add noise to a image"
   ]
  },
  {
   "cell_type": "markdown",
   "id": "5db2ad6d-7dcc-43ea-b6b1-cd7fdca7088f",
   "metadata": {},
   "source": [
    "To add noise to our data, we will use four types of noise: Gaussian noise, salt and pepper noise, Poisson noise, and speckle noise. We will add these noises randomly, using the methods shown."
   ]
  },
  {
   "cell_type": "code",
   "execution_count": 30,
   "id": "9b262e8e-6a50-4cc7-a9aa-cbe5bb874449",
   "metadata": {},
   "outputs": [],
   "source": [
    "class NoiseAdder:\n",
    "    @staticmethod\n",
    "    def add_gaussian_noise(image, mean=0, var=0.1):\n",
    "        # Get image dimensions\n",
    "        r, c = image.shape[-2:]\n",
    "        sigma = torch.sqrt(torch.tensor(var))\n",
    "        mean = torch.tensor(mean)\n",
    "        \n",
    "        # Generate Gaussian noise\n",
    "        gaussian_noise = torch.normal(mean=mean, std=sigma, size=(r, c))\n",
    "        \n",
    "        # Add noise\n",
    "        noisy_image = image + gaussian_noise\n",
    "        return noisy_image\n",
    "\n",
    "    @staticmethod\n",
    "    def add_salt_and_pepper_noise(image, ratio=0.5, amount=0.1):\n",
    "        noisy_image = image.clone()\n",
    "\n",
    "        # Number of pixels to be affected by \"salt\" noise\n",
    "        salt_count = int(torch.ceil(torch.tensor(amount * image.numel() * ratio)).item())\n",
    "        # Generate random indices for \"salt\" noise\n",
    "        salt_coords = [torch.randint(0, i, (salt_count,)) for i in image.shape]\n",
    "        noisy_image[salt_coords[0], salt_coords[1]] = 1  # Set max value for \"salt\" noise\n",
    "\n",
    "        # Number of pixels to be affected by \"pepper\" noise\n",
    "        pepper_count = int(torch.ceil(torch.tensor(amount * image.numel() * (1 - ratio))).item())\n",
    "        # Generate random indices for \"pepper\" noise\n",
    "        pepper_coords = [torch.randint(0, i, (pepper_count,)) for i in image.shape]\n",
    "        noisy_image[pepper_coords[0], pepper_coords[1]] = 0  # Set min value for \"pepper\" noise\n",
    "\n",
    "        return noisy_image\n",
    "\n",
    "    @staticmethod\n",
    "    def add_poisson_noise(image):\n",
    "        # Calculate the number of unique intensity values in the image\n",
    "        vals = len(torch.unique(image))\n",
    "        # Round `vals` to the nearest power of 2 (for better scaling)\n",
    "        vals = 2 ** torch.ceil(torch.log2(torch.tensor(vals))).item()\n",
    "\n",
    "        # Scale the image and apply Poisson noise\n",
    "        noisy_image = torch.poisson(image * vals) / float(vals)\n",
    "        \n",
    "        return noisy_image\n",
    "\n",
    "    @staticmethod\n",
    "    def add_speckle_noise(image, std_dev=0.1):\n",
    "        # Get the dimensions of the image\n",
    "        r, c = image.shape[-2:]\n",
    "        \n",
    "        # Generate speckle noise using a normal distribution\n",
    "        speckle = torch.randn(r, c) * std_dev\n",
    "        \n",
    "        # Add speckle noise by multiplying it with the original image\n",
    "        noisy = image + image * speckle\n",
    "        \n",
    "        # Clip the values to stay within the range [0, 1] if the image is normalized\n",
    "        noisy_image = torch.clamp(noisy, 0, 1)\n",
    "        \n",
    "        return noisy_image\n",
    "\n",
    "    @staticmethod\n",
    "    def add_noise(image):\n",
    "        p = torch.rand(1).item()\n",
    "        if p <= 0.333:\n",
    "            noisy_image = NoiseAdder.add_gaussian_noise(image, mean=0, var=0.1)\n",
    "        # elif p <= 0.67:\n",
    "        #    noisy_image = NoiseAdder.add_salt_and_pepper_noise(image, amount=0.2, ratio=0.9)\n",
    "        elif p <= 0.67:\n",
    "            noisy_image = NoiseAdder.add_poisson_noise(image)\n",
    "        else:\n",
    "            noisy_image = NoiseAdder.add_speckle_noise(image, std_dev=0.1)\n",
    "        return noisy_image"
   ]
  },
  {
   "cell_type": "markdown",
   "id": "69a92911-818a-4d25-b400-726129a771c3",
   "metadata": {},
   "source": [
    "I ended up focusing on just three types of noise: Gaussian, Poisson, and speckle. This is because I noticed that salt and pepper noise was too destructive to the image, making it difficult even to recognize the content with the naked eye. I can’t imagine that even a powerful model could recover useful information from that level of destruction. I think it would be necessary to fine-tune the intensity parameters of the salt and pepper noise to achieve an image that’s sufficiently noisy, but not overly so. But for now, we’re only using the three types of noise mentioned above."
   ]
  },
  {
   "cell_type": "markdown",
   "id": "4f556100-b3d7-4559-b1da-518f89091c1a",
   "metadata": {},
   "source": [
    "## DataLoader for MNIST Data"
   ]
  },
  {
   "cell_type": "markdown",
   "id": "e92adde8-a7b3-4b42-a25a-eaf0dd40417e",
   "metadata": {},
   "source": [
    "On top of that, I built a MNIST data class, which will allow us to prepare the data for a global data loader. We will use a collate_fn function that will randomly add noise to the data and normalize it in case it hasn't already been normalized. For the data loader, I chose a batch size of 64 images. Finally, I plotted a few images to compare the clean and noisy versions, to observe the effectiveness and intensity of the noise."
   ]
  },
  {
   "cell_type": "code",
   "execution_count": 31,
   "id": "047967ce-c306-4aeb-8690-b9f79f3cb029",
   "metadata": {},
   "outputs": [],
   "source": [
    "class MNIST:\n",
    "    @staticmethod\n",
    "    def collate_fn(batch):\n",
    "        noisy_images = []\n",
    "        clean_images = []\n",
    "        labels = []\n",
    "        for image, label in batch:\n",
    "            if image.dtype != torch.float32:\n",
    "                image = image.float() / 255.0\n",
    "            clean_images.append(image)  # without noises\n",
    "            noisy_image = NoiseAdder.add_noise(image)  # apply noise\n",
    "            noisy_images.append(noisy_image)\n",
    "            labels.append(label)\n",
    "        return torch.stack(noisy_images), torch.stack(clean_images), torch.tensor(labels)\n",
    "\n",
    "    @staticmethod\n",
    "    def get_dataloaders(batch_size, num_workers=0, train_transforms=None, test_transforms=None):\n",
    "        # Apply basic transforms if none are provided\n",
    "        if train_transforms is None:\n",
    "            train_transforms = transforms.ToTensor()\n",
    "        if test_transforms is None:\n",
    "            test_transforms = transforms.ToTensor()\n",
    "\n",
    "        # Define training and validation datasets with applied transformations\n",
    "        train_dataset = datasets.MNIST(root='data', train=True, transform=train_transforms, download=True)\n",
    "        valid_dataset = datasets.MNIST(root='data', train=False, transform=test_transforms)\n",
    "\n",
    "        # Data loaders with shuffle for train and no shuffle for validation\n",
    "        train_loader = DataLoader(train_dataset, batch_size=batch_size, shuffle=True, \n",
    "                                  collate_fn=MNIST.collate_fn, num_workers=num_workers)\n",
    "        valid_loader = DataLoader(valid_dataset, batch_size=batch_size, shuffle=False, \n",
    "                                  collate_fn=MNIST.collate_fn, num_workers=num_workers)\n",
    "        \n",
    "        return train_loader, valid_loader"
   ]
  },
  {
   "cell_type": "code",
   "execution_count": 32,
   "id": "bc0c50cd-a279-4792-946d-1dd9be284dbb",
   "metadata": {},
   "outputs": [],
   "source": [
    "batch_size = 64\n",
    "train_loader, valid_loader = MNIST.get_dataloaders(batch_size=batch_size,\n",
    "    num_workers=2)"
   ]
  },
  {
   "cell_type": "code",
   "execution_count": 33,
   "id": "26d64483-c376-41eb-8f46-b40630bef3ab",
   "metadata": {},
   "outputs": [
    {
     "name": "stdout",
     "output_type": "stream",
     "text": [
      "Training Set:\n",
      "\n",
      "Image batch dimensions: torch.Size([64, 1, 28, 28])\n",
      "Image noised batch dimensions: torch.Size([64, 1, 28, 28])\n",
      "Image label dimensions: torch.Size([64])\n",
      "tensor([0, 6, 2, 6, 8, 7, 5, 9, 2, 7])\n"
     ]
    }
   ],
   "source": [
    "# Checking the dataset\n",
    "print('Training Set:\\n')\n",
    "for images, noised_images, labels in train_loader:\n",
    "    print('Image batch dimensions:', images.size())\n",
    "    print('Image noised batch dimensions:', noised_images.size())\n",
    "    print('Image label dimensions:', labels.size())\n",
    "    print(labels[:10])\n",
    "    break"
   ]
  },
  {
   "cell_type": "markdown",
   "id": "cba08b53-f466-4ab7-b022-c9f659a58226",
   "metadata": {},
   "source": [
    "### Display some noisy and clean images"
   ]
  },
  {
   "cell_type": "code",
   "execution_count": 35,
   "id": "49cf7a3a-b8d6-4b4e-829a-f1665574d040",
   "metadata": {},
   "outputs": [
    {
     "data": {
      "image/png": "[encoded data removed]",
      "text/plain": [
       "<Figure size 1200x600 with 6 Axes>"
      ]
     },
     "metadata": {},
     "output_type": "display_data"
    }
   ],
   "source": [
    "def show_noisy_images(train_loader, num_images=3):\n",
    "    # Get a batch from the DataLoader\n",
    "    noisy_images, clean_images, _ = next(iter(train_loader))\n",
    "    \n",
    "    plt.figure(figsize=(12, 6))\n",
    "    for i in range(num_images):\n",
    "        # Display the original (clean) image\n",
    "        plt.subplot(2, num_images, i + 1)\n",
    "        plt.imshow(clean_images[i][0], cmap='gray')  # [0] to remove the channel dimension\n",
    "        plt.title(\"Clean Image\")\n",
    "        plt.axis('off')\n",
    "\n",
    "        # Display the noisy image\n",
    "        plt.subplot(2, num_images, num_images + i + 1)\n",
    "        plt.imshow(noisy_images[i][0], cmap='gray')  # [0] to remove the channel dimension\n",
    "        plt.title(\"Noisy Image\")\n",
    "        plt.axis('off')\n",
    "    \n",
    "    plt.tight_layout()\n",
    "    plt.show()\n",
    "\n",
    "show_noisy_images(train_loader)"
   ]
  },
  {
   "cell_type": "markdown",
   "id": "a6c3ebcb-cc3b-44bd-a070-42c194cc9ac9",
   "metadata": {},
   "source": [
    "### Define the Autoencoder"
   ]
  },
  {
   "cell_type": "markdown",
   "id": "acd76397-1dbc-4538-af2b-e4f67e2a7a23",
   "metadata": {},
   "source": [
    "For the autoencoder itself, I based most of the architecture on an article from Medium, which I'll link below. The architecture consists of an encoder and a decoder. The encoder is made up of a series of convolutional layers, ReLU activation layers, and max pooling layers, usually with a kernel size of 2. The decoder, in contrast, consists of transpose convolution layers followed by ReLU activation layers and, specifically, a Upsampling layer.\n",
    "\n",
    "[Denoising AE tensorflow](https://medium.com/game-of-bits/denoising-autoencoders-can-reduce-noise-in-images-5b74753eaf97)"
   ]
  },
  {
   "cell_type": "code",
   "execution_count": 36,
   "id": "66505b70-528b-4c24-bfcd-a17f7f1b0921",
   "metadata": {},
   "outputs": [],
   "source": [
    "class AutoEncoder(nn.Module):\n",
    "    def __init__(self):\n",
    "        super(AutoEncoder, self).__init__()\n",
    "        \n",
    "        # Encoder part\n",
    "        self.encoder = nn.Sequential(\n",
    "            nn.Conv2d(1, 64, kernel_size=5),  # Output: (None, 24, 24, 64)\n",
    "            nn.ReLU(),\n",
    "            nn.MaxPool2d(kernel_size=2),      # Output: (None, 12, 12, 64)\n",
    "            \n",
    "            nn.Conv2d(64, 128, kernel_size=3), # Output: (None, 10, 10, 128)\n",
    "            nn.ReLU(),\n",
    "            nn.MaxPool2d(kernel_size=2),       # Output: (None, 5, 5, 128)\n",
    "            \n",
    "            nn.Conv2d(128, 256, kernel_size=3), # Output: (None, 3, 3, 256)\n",
    "            nn.ReLU(),\n",
    "            nn.MaxPool2d(kernel_size=2)        # Output: (None, 1, 1, 256)\n",
    "        )\n",
    "        \n",
    "        # Decoder part\n",
    "        self.decoder = nn.Sequential(\n",
    "            nn.ConvTranspose2d(256, 256, kernel_size=3), # Output: (None, 3, 3, 256)\n",
    "            nn.ReLU(),\n",
    "            \n",
    "            nn.ConvTranspose2d(256, 128, kernel_size=3), # Output: (None, 5, 5, 128)\n",
    "            nn.ReLU(),\n",
    "            \n",
    "            nn.Upsample(scale_factor=2, mode='nearest'), # Output: (None, 10, 10, 128)\n",
    "            \n",
    "            nn.ConvTranspose2d(128, 64, kernel_size=3),  # Output: (None, 12, 12, 64)\n",
    "            nn.ReLU(),\n",
    "            \n",
    "            nn.Upsample(scale_factor=2, mode='nearest'), # Output: (None, 24, 24, 64)\n",
    "            \n",
    "            nn.ConvTranspose2d(64, 1, kernel_size=5),    # Output: (None, 28, 28, 1)\n",
    "            nn.Sigmoid()  # Constraint the output between 0 and 1\n",
    "        )\n",
    "\n",
    "    def forward(self, x):\n",
    "        x = self.encoder(x)\n",
    "        x = self.decoder(x)\n",
    "        return x"
   ]
  },
  {
   "cell_type": "markdown",
   "id": "cdbffe3e-04fd-4eb1-b120-9499f6be7660",
   "metadata": {},
   "source": [
    "### Create the trainer"
   ]
  },
  {
   "cell_type": "code",
   "execution_count": 37,
   "id": "69cb84d3-3187-4f65-831f-022035d14b90",
   "metadata": {},
   "outputs": [],
   "source": [
    "# Initialize AutoEncoder model and Adam optimizer with defined learning rate\n",
    "autoencoder = AutoEncoder()\n",
    "learning_rate = 0.0005\n",
    "optimizer = torch.optim.Adam(autoencoder.parameters(), lr=learning_rate)\n",
    "\n",
    "# Computes average loss for each epoch over entire dataset\n",
    "def compute_epoch_loss(model, data_loader, device, loss_fn):\n",
    "    total_loss = 0\n",
    "    total_batches = 0\n",
    "    for images, images_noised, _ in data_loader:\n",
    "        images_noised = images_noised.to(device)\n",
    "        images = images.to(device)\n",
    "        logits = model(images_noised)  # Reconstructed image\n",
    "        loss = loss_fn(logits, images)  # Compute reconstruction loss\n",
    "        total_loss += loss.item()\n",
    "        total_batches += 1\n",
    "    return total_loss / total_batches\n",
    "\n",
    "# Main training function with logging and model saving\n",
    "def train(num_epochs, model, optimizer, train_loader, loss_fn=None, logging_interval=100, skip_epoch_stats=False, save_model=None):\n",
    "    device = torch.device(\"cuda\" if torch.cuda.is_available() else \"cpu\")\n",
    "    model = model.to(device)\n",
    "    \n",
    "    log_dict = {'train_loss_per_batch': [], 'train_loss_per_epoch': []}\n",
    "\n",
    "    # Default to MSE loss if no specific loss function is provided\n",
    "    if loss_fn is None:\n",
    "        loss_fn = F.mse_loss\n",
    "\n",
    "    start_time = time.time()\n",
    "    for epoch in range(num_epochs):\n",
    "        model.train()  # Set model to training mode\n",
    "        for batch_idx, (images, noised_images, _) in enumerate(train_loader):\n",
    "            images = images.to(device)  # Move images and the noised images to GPU if available\n",
    "            noised_images = noised_images.to(device)\n",
    "            \n",
    "            logits = model(noised_images)  # Forward pass\n",
    "            loss = loss_fn(logits, images)  # Compute loss against the unnoised image\n",
    "            optimizer.zero_grad()\n",
    "            loss.backward()  # Backward pass\n",
    "            optimizer.step()  # Update model parameters\n",
    "            \n",
    "            # Log batch loss\n",
    "            log_dict['train_loss_per_batch'].append(loss.item())\n",
    "            \n",
    "            # Display batch loss if logging_interval is reached\n",
    "            if batch_idx % logging_interval == 0:\n",
    "                print(f'Epoch: {epoch + 1}/{num_epochs} | Batch {batch_idx + 1}/{len(train_loader)} | Loss: {loss:.4f}')\n",
    "        \n",
    "        # Compute average loss for the epoch if required\n",
    "        if not skip_epoch_stats:\n",
    "            model.eval()\n",
    "            with torch.no_grad():\n",
    "                train_loss = compute_epoch_loss(model, train_loader, device, loss_fn)\n",
    "                print(f'***Epoch: {epoch + 1}/{num_epochs} | Avg Epoch Loss: {train_loss:.3f}')\n",
    "            log_dict['train_loss_per_epoch'].append(train_loss)\n",
    "\n",
    "    end_time = time.time()\n",
    "    print(f'Total Training Time: {(end_time - start_time) / 60:.2f} min')\n",
    "\n",
    "    # Save model to file if a path is specified\n",
    "    if save_model is not None:\n",
    "        torch.save(model.state_dict(), save_model)\n",
    "        \n",
    "    return model, log_dict  # Return trained model and log dictionary"
   ]
  },
  {
   "cell_type": "markdown",
   "id": "96dc505b-3ba1-46ee-828e-3ca08557cbe5",
   "metadata": {},
   "source": [
    "I trained with a learning rate of 0.005 and used the classic Adam optimizer. The training was done over 30 epochs. In the end, we achieved an average loss, a final epoch loss at the 30th epoch, of 0.037."
   ]
  },
  {
   "cell_type": "code",
   "execution_count": 38,
   "id": "956f4ab0-3802-4075-af9a-35acdebf305a",
   "metadata": {},
   "outputs": [
    {
     "name": "stdout",
     "output_type": "stream",
     "text": [
      "Epoch: 1/30 | Batch 1/938 | Loss: 0.2588\n",
      "Epoch: 1/30 | Batch 251/938 | Loss: 0.0663\n",
      "Epoch: 1/30 | Batch 501/938 | Loss: 0.0489\n",
      "Epoch: 1/30 | Batch 751/938 | Loss: 0.0454\n",
      "***Epoch: 1/30 | Avg Epoch Loss: 0.045\n",
      "Epoch: 2/30 | Batch 1/938 | Loss: 0.0419\n",
      "Epoch: 2/30 | Batch 251/938 | Loss: 0.0482\n",
      "Epoch: 2/30 | Batch 501/938 | Loss: 0.0560\n",
      "Epoch: 2/30 | Batch 751/938 | Loss: 0.0411\n",
      "***Epoch: 2/30 | Avg Epoch Loss: 0.042\n",
      "Epoch: 3/30 | Batch 1/938 | Loss: 0.0427\n",
      "Epoch: 3/30 | Batch 251/938 | Loss: 0.0332\n",
      "Epoch: 3/30 | Batch 501/938 | Loss: 0.0421\n",
      "Epoch: 3/30 | Batch 751/938 | Loss: 0.0436\n",
      "***Epoch: 3/30 | Avg Epoch Loss: 0.041\n",
      "Epoch: 4/30 | Batch 1/938 | Loss: 0.0357\n",
      "Epoch: 4/30 | Batch 251/938 | Loss: 0.0289\n",
      "Epoch: 4/30 | Batch 501/938 | Loss: 0.0370\n",
      "Epoch: 4/30 | Batch 751/938 | Loss: 0.0439\n",
      "***Epoch: 4/30 | Avg Epoch Loss: 0.040\n",
      "Epoch: 5/30 | Batch 1/938 | Loss: 0.0422\n",
      "Epoch: 5/30 | Batch 251/938 | Loss: 0.0374\n",
      "Epoch: 5/30 | Batch 501/938 | Loss: 0.0468\n",
      "Epoch: 5/30 | Batch 751/938 | Loss: 0.0518\n",
      "***Epoch: 5/30 | Avg Epoch Loss: 0.040\n",
      "Epoch: 6/30 | Batch 1/938 | Loss: 0.0404\n",
      "Epoch: 6/30 | Batch 251/938 | Loss: 0.0468\n",
      "Epoch: 6/30 | Batch 501/938 | Loss: 0.0415\n",
      "Epoch: 6/30 | Batch 751/938 | Loss: 0.0377\n",
      "***Epoch: 6/30 | Avg Epoch Loss: 0.039\n",
      "Epoch: 7/30 | Batch 1/938 | Loss: 0.0332\n",
      "Epoch: 7/30 | Batch 251/938 | Loss: 0.0303\n",
      "Epoch: 7/30 | Batch 501/938 | Loss: 0.0339\n",
      "Epoch: 7/30 | Batch 751/938 | Loss: 0.0361\n",
      "***Epoch: 7/30 | Avg Epoch Loss: 0.038\n",
      "Epoch: 8/30 | Batch 1/938 | Loss: 0.0501\n",
      "Epoch: 8/30 | Batch 251/938 | Loss: 0.0456\n",
      "Epoch: 8/30 | Batch 501/938 | Loss: 0.0397\n",
      "Epoch: 8/30 | Batch 751/938 | Loss: 0.0371\n",
      "***Epoch: 8/30 | Avg Epoch Loss: 0.039\n",
      "Epoch: 9/30 | Batch 1/938 | Loss: 0.0414\n",
      "Epoch: 9/30 | Batch 251/938 | Loss: 0.0426\n",
      "Epoch: 9/30 | Batch 501/938 | Loss: 0.0331\n",
      "Epoch: 9/30 | Batch 751/938 | Loss: 0.0412\n",
      "***Epoch: 9/30 | Avg Epoch Loss: 0.038\n",
      "Epoch: 10/30 | Batch 1/938 | Loss: 0.0422\n",
      "Epoch: 10/30 | Batch 251/938 | Loss: 0.0411\n",
      "Epoch: 10/30 | Batch 501/938 | Loss: 0.0464\n",
      "Epoch: 10/30 | Batch 751/938 | Loss: 0.0468\n",
      "***Epoch: 10/30 | Avg Epoch Loss: 0.038\n",
      "Epoch: 11/30 | Batch 1/938 | Loss: 0.0391\n",
      "Epoch: 11/30 | Batch 251/938 | Loss: 0.0421\n",
      "Epoch: 11/30 | Batch 501/938 | Loss: 0.0386\n",
      "Epoch: 11/30 | Batch 751/938 | Loss: 0.0383\n",
      "***Epoch: 11/30 | Avg Epoch Loss: 0.038\n",
      "Epoch: 12/30 | Batch 1/938 | Loss: 0.0441\n",
      "Epoch: 12/30 | Batch 251/938 | Loss: 0.0299\n",
      "Epoch: 12/30 | Batch 501/938 | Loss: 0.0422\n",
      "Epoch: 12/30 | Batch 751/938 | Loss: 0.0401\n",
      "***Epoch: 12/30 | Avg Epoch Loss: 0.038\n",
      "Epoch: 13/30 | Batch 1/938 | Loss: 0.0400\n",
      "Epoch: 13/30 | Batch 251/938 | Loss: 0.0341\n",
      "Epoch: 13/30 | Batch 501/938 | Loss: 0.0328\n",
      "Epoch: 13/30 | Batch 751/938 | Loss: 0.0439\n",
      "***Epoch: 13/30 | Avg Epoch Loss: 0.037\n",
      "Epoch: 14/30 | Batch 1/938 | Loss: 0.0406\n",
      "Epoch: 14/30 | Batch 251/938 | Loss: 0.0433\n",
      "Epoch: 14/30 | Batch 501/938 | Loss: 0.0380\n",
      "Epoch: 14/30 | Batch 751/938 | Loss: 0.0369\n",
      "***Epoch: 14/30 | Avg Epoch Loss: 0.038\n",
      "Epoch: 15/30 | Batch 1/938 | Loss: 0.0406\n",
      "Epoch: 15/30 | Batch 251/938 | Loss: 0.0364\n",
      "Epoch: 15/30 | Batch 501/938 | Loss: 0.0264\n",
      "Epoch: 15/30 | Batch 751/938 | Loss: 0.0217\n",
      "***Epoch: 15/30 | Avg Epoch Loss: 0.037\n",
      "Epoch: 16/30 | Batch 1/938 | Loss: 0.0394\n",
      "Epoch: 16/30 | Batch 251/938 | Loss: 0.0363\n",
      "Epoch: 16/30 | Batch 501/938 | Loss: 0.0426\n",
      "Epoch: 16/30 | Batch 751/938 | Loss: 0.0297\n",
      "***Epoch: 16/30 | Avg Epoch Loss: 0.037\n",
      "Epoch: 17/30 | Batch 1/938 | Loss: 0.0274\n",
      "Epoch: 17/30 | Batch 251/938 | Loss: 0.0282\n",
      "Epoch: 17/30 | Batch 501/938 | Loss: 0.0323\n",
      "Epoch: 17/30 | Batch 751/938 | Loss: 0.0404\n",
      "***Epoch: 17/30 | Avg Epoch Loss: 0.038\n",
      "Epoch: 18/30 | Batch 1/938 | Loss: 0.0284\n",
      "Epoch: 18/30 | Batch 251/938 | Loss: 0.0319\n",
      "Epoch: 18/30 | Batch 501/938 | Loss: 0.0343\n",
      "Epoch: 18/30 | Batch 751/938 | Loss: 0.0385\n",
      "***Epoch: 18/30 | Avg Epoch Loss: 0.037\n",
      "Epoch: 19/30 | Batch 1/938 | Loss: 0.0334\n",
      "Epoch: 19/30 | Batch 251/938 | Loss: 0.0387\n",
      "Epoch: 19/30 | Batch 501/938 | Loss: 0.0348\n",
      "Epoch: 19/30 | Batch 751/938 | Loss: 0.0339\n",
      "***Epoch: 19/30 | Avg Epoch Loss: 0.037\n",
      "Epoch: 20/30 | Batch 1/938 | Loss: 0.0446\n",
      "Epoch: 20/30 | Batch 251/938 | Loss: 0.0422\n",
      "Epoch: 20/30 | Batch 501/938 | Loss: 0.0333\n",
      "Epoch: 20/30 | Batch 751/938 | Loss: 0.0448\n",
      "***Epoch: 20/30 | Avg Epoch Loss: 0.037\n",
      "Epoch: 21/30 | Batch 1/938 | Loss: 0.0291\n",
      "Epoch: 21/30 | Batch 251/938 | Loss: 0.0286\n",
      "Epoch: 21/30 | Batch 501/938 | Loss: 0.0326\n",
      "Epoch: 21/30 | Batch 751/938 | Loss: 0.0296\n",
      "***Epoch: 21/30 | Avg Epoch Loss: 0.037\n",
      "Epoch: 22/30 | Batch 1/938 | Loss: 0.0359\n",
      "Epoch: 22/30 | Batch 251/938 | Loss: 0.0324\n",
      "Epoch: 22/30 | Batch 501/938 | Loss: 0.0257\n",
      "Epoch: 22/30 | Batch 751/938 | Loss: 0.0411\n",
      "***Epoch: 22/30 | Avg Epoch Loss: 0.037\n",
      "Epoch: 23/30 | Batch 1/938 | Loss: 0.0446\n",
      "Epoch: 23/30 | Batch 251/938 | Loss: 0.0428\n",
      "Epoch: 23/30 | Batch 501/938 | Loss: 0.0319\n",
      "Epoch: 23/30 | Batch 751/938 | Loss: 0.0402\n",
      "***Epoch: 23/30 | Avg Epoch Loss: 0.037\n",
      "Epoch: 24/30 | Batch 1/938 | Loss: 0.0305\n",
      "Epoch: 24/30 | Batch 251/938 | Loss: 0.0470\n",
      "Epoch: 24/30 | Batch 501/938 | Loss: 0.0316\n",
      "Epoch: 24/30 | Batch 751/938 | Loss: 0.0377\n",
      "***Epoch: 24/30 | Avg Epoch Loss: 0.037\n",
      "Epoch: 25/30 | Batch 1/938 | Loss: 0.0356\n",
      "Epoch: 25/30 | Batch 251/938 | Loss: 0.0240\n",
      "Epoch: 25/30 | Batch 501/938 | Loss: 0.0346\n",
      "Epoch: 25/30 | Batch 751/938 | Loss: 0.0437\n",
      "***Epoch: 25/30 | Avg Epoch Loss: 0.037\n",
      "Epoch: 26/30 | Batch 1/938 | Loss: 0.0369\n",
      "Epoch: 26/30 | Batch 251/938 | Loss: 0.0420\n",
      "Epoch: 26/30 | Batch 501/938 | Loss: 0.0441\n",
      "Epoch: 26/30 | Batch 751/938 | Loss: 0.0330\n",
      "***Epoch: 26/30 | Avg Epoch Loss: 0.037\n",
      "Epoch: 27/30 | Batch 1/938 | Loss: 0.0359\n",
      "Epoch: 27/30 | Batch 251/938 | Loss: 0.0323\n",
      "Epoch: 27/30 | Batch 501/938 | Loss: 0.0395\n",
      "Epoch: 27/30 | Batch 751/938 | Loss: 0.0429\n",
      "***Epoch: 27/30 | Avg Epoch Loss: 0.037\n",
      "Epoch: 28/30 | Batch 1/938 | Loss: 0.0364\n",
      "Epoch: 28/30 | Batch 251/938 | Loss: 0.0246\n",
      "Epoch: 28/30 | Batch 501/938 | Loss: 0.0331\n",
      "Epoch: 28/30 | Batch 751/938 | Loss: 0.0456\n",
      "***Epoch: 28/30 | Avg Epoch Loss: 0.037\n",
      "Epoch: 29/30 | Batch 1/938 | Loss: 0.0451\n",
      "Epoch: 29/30 | Batch 251/938 | Loss: 0.0353\n",
      "Epoch: 29/30 | Batch 501/938 | Loss: 0.0475\n",
      "Epoch: 29/30 | Batch 751/938 | Loss: 0.0456\n",
      "***Epoch: 29/30 | Avg Epoch Loss: 0.037\n",
      "Epoch: 30/30 | Batch 1/938 | Loss: 0.0278\n",
      "Epoch: 30/30 | Batch 251/938 | Loss: 0.0390\n",
      "Epoch: 30/30 | Batch 501/938 | Loss: 0.0489\n",
      "Epoch: 30/30 | Batch 751/938 | Loss: 0.0356\n",
      "***Epoch: 30/30 | Avg Epoch Loss: 0.037\n",
      "Total Training Time: 2.74 min\n"
     ]
    }
   ],
   "source": [
    "num_epochs = 30\n",
    "model, log_dict = train(num_epochs=num_epochs, model=autoencoder,\n",
    "                                optimizer=optimizer,\n",
    "                                train_loader=train_loader,\n",
    "                                skip_epoch_stats=False,\n",
    "                                logging_interval=250)"
   ]
  },
  {
   "cell_type": "markdown",
   "id": "56b97dd2-7463-4b3c-8da4-ae969611855a",
   "metadata": {},
   "source": [
    "### Plotting the training loss against iterations "
   ]
  },
  {
   "cell_type": "code",
   "execution_count": 39,
   "id": "95659346-ca7d-42f3-9f35-d770fa340a50",
   "metadata": {},
   "outputs": [],
   "source": [
    "def plot_training_logs(log_dict):\n",
    "    \"\"\"\n",
    "    Plots the mini-batch loss and running average epoch loss on the same graph\n",
    "    \"\"\"\n",
    "    # Extract losses from the log dictionary\n",
    "    batch_losses = log_dict.get('train_loss_per_batch', [])\n",
    "    epoch_losses = log_dict.get('train_loss_per_epoch', [])\n",
    "    \n",
    "    # Create a figure and axis\n",
    "    plt.figure(figsize=(10, 6))\n",
    "    \n",
    "    # Plot mini-batch loss\n",
    "    plt.plot(batch_losses, label='Mini Batch Loss', alpha=0.6)\n",
    "    \n",
    "    # Plot epoch average loss (Running Average Loss)\n",
    "    # Since epoch loss is calculated once per epoch, we spread it across all batches for visualization\n",
    "    epoch_points = len(batch_losses) // len(epoch_losses)\n",
    "    epoch_loss_expanded = [loss for loss in epoch_losses for _ in range(epoch_points)]\n",
    "    plt.plot(epoch_loss_expanded[:len(batch_losses)], label='Running Average Loss (Epoch)', linewidth=2)\n",
    "    \n",
    "    # Add labels and title\n",
    "    plt.xlabel('Iterations')\n",
    "    plt.ylabel('Loss')\n",
    "    plt.title('Training Loss: Mini Batch Loss vs. Running Average Loss')\n",
    "    plt.legend()\n",
    "    \n",
    "    # Show the plot\n",
    "    plt.show()"
   ]
  },
  {
   "cell_type": "code",
   "execution_count": 40,
   "id": "288801a3-c42b-42b8-9245-c7596c9c08d2",
   "metadata": {},
   "outputs": [
    {
     "data": {
      "image/png": "[encoded data removed]",
      "text/plain": [
       "<Figure size 1000x600 with 1 Axes>"
      ]
     },
     "metadata": {},
     "output_type": "display_data"
    }
   ],
   "source": [
    "plot_training_logs(log_dict)"
   ]
  },
  {
   "cell_type": "markdown",
   "id": "780c5b05-f6f6-4348-9095-d853144c338b",
   "metadata": {},
   "source": [
    "### Results Visualisation"
   ]
  },
  {
   "cell_type": "code",
   "execution_count": 41,
   "id": "0fad97c2-61c5-48c4-9b7e-c8683fa496dc",
   "metadata": {},
   "outputs": [],
   "source": [
    "valid_dataset = datasets.MNIST(root='data', train=False, transform=transforms.ToTensor())"
   ]
  },
  {
   "cell_type": "code",
   "execution_count": 61,
   "id": "aa63e4d5-ce3e-42ad-bac7-e86b36f877b7",
   "metadata": {},
   "outputs": [
    {
     "data": {
      "image/png": "[encoded data removed]",
      "text/plain": [
       "<Figure size 1200x400 with 3 Axes>"
      ]
     },
     "metadata": {},
     "output_type": "display_data"
    }
   ],
   "source": [
    "# Set the model to evaluation mode (disables dropout, batch norm, etc.)\n",
    "device = torch.device(\"cuda\" if torch.cuda.is_available() else \"cpu\")\n",
    "#model = model.to(device)  # Move model to CPU\n",
    "model.eval()\n",
    "\n",
    "# Select a random index within the validation dataset\n",
    "random_index = random.randint(0, len(valid_dataset) - 1)\n",
    "\n",
    "# Load the image\n",
    "original_image, _ = valid_dataset[random_index]\n",
    "\n",
    "# noised the image:\n",
    "image_noised = NoiseAdder.add_gaussian_noise(original_image)\n",
    "\n",
    "# Add a batch dimension and move the image to the same device as the model\n",
    "image_noised = image_noised.unsqueeze(0).to(device)\n",
    "\n",
    "# Disable gradients for inference\n",
    "with torch.no_grad():\n",
    "    denoised_image = model(image_noised)\n",
    "\n",
    "# Move images to CPU and remove the batch dimension for display\n",
    "original_image = original_image.cpu().squeeze()\n",
    "denoised_image = denoised_image.cpu().squeeze()\n",
    "image_noised = image_noised.cpu().squeeze()\n",
    "\n",
    "# Display the original, noised, and denoised images\n",
    "plt.figure(figsize=(12, 4))\n",
    "\n",
    "# Original image\n",
    "plt.subplot(1, 3, 1)\n",
    "plt.imshow(original_image, cmap=\"gray\")\n",
    "plt.title(\"Original Image\")\n",
    "plt.axis(\"off\")\n",
    "\n",
    "# Noised image\n",
    "plt.subplot(1, 3, 2)\n",
    "plt.imshow(image_noised, cmap=\"gray\")\n",
    "plt.title(\"Gaussian noised image\")\n",
    "plt.axis(\"off\")\n",
    "\n",
    "# Denoised image\n",
    "plt.subplot(1, 3, 3)\n",
    "plt.imshow(denoised_image, cmap=\"gray\")\n",
    "plt.title(\"Denoised Image\")\n",
    "plt.axis(\"off\")\n",
    "\n",
    "plt.show()"
   ]
  },
  {
   "cell_type": "markdown",
   "id": "294c0bac-7aaa-48b6-abdd-10befa8f6f48",
   "metadata": {},
   "source": [
    "By comparing the noisy, original, and denoised images, we can see that the noise addition generally did its job. Particularly in the example above with a noisy image, if we zoom in, it’s clear that the model was able to clean up the background and reconstruct the number, recognizing it as a 6."
   ]
  }
 ],
 "metadata": {
  "kernelspec": {
   "display_name": "Python 3 (ipykernel)",
   "language": "python",
   "name": "python3"
  },
  "language_info": {
   "codemirror_mode": {
    "name": "ipython",
    "version": 3
   },
   "file_extension": ".py",
   "mimetype": "text/x-python",
   "name": "python",
   "nbconvert_exporter": "python",
   "pygments_lexer": "ipython3",
   "version": "3.11.2"
  }
 },
 "nbformat": 4,
 "nbformat_minor": 5
}
